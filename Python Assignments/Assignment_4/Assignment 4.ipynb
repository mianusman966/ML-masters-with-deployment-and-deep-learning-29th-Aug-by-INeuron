{
 "cells": [
  {
   "cell_type": "markdown",
   "metadata": {},
   "source": [
    "# Question 1"
   ]
  },
  {
   "cell_type": "markdown",
   "metadata": {},
   "source": [
    "* 1.1  Write a Python Program(with class concepts) to find the area of the triangle using the below formula. \n",
    " \n",
    "        area = (s*(s-a)*(s-b)*(s-c)) ** 0.5 \n",
    " \n",
    "Function to take the length of the sides of triangle from user should be defined in the parent class and function to calculate the area should be defined in subclass. "
   ]
  },
  {
   "cell_type": "code",
   "execution_count": 17,
   "metadata": {},
   "outputs": [],
   "source": [
    "#Parent class\n",
    "class Triangle:\n",
    "    def __init__(self):\n",
    "        number_of_sides=['a','b','c']\n",
    "        self.TriangleSides=number_of_sides\n",
    "        \n",
    "    def sides_Of_Triangle(self):\n",
    "        self.sides_Of_Traingle=[input(\"Enter the Side \"+i+\" :\") for i in self.TriangleSides] \n",
    "        \n",
    "#Sub class       \n",
    "class Traingle_Area(Triangle):\n",
    "    def __init__(self):\n",
    "        Triangle.__init__(self)       \n",
    "    def area_Of_Triangle(self):   \n",
    "        triangleSides=iter(self.sides_Of_Traingle)# Iterator has been created to iterate sides of triangle from collection\n",
    "        a=float(next(triangleSides))\n",
    "        b=float(next(triangleSides))\n",
    "        c=float(next(triangleSides))\n",
    "        \n",
    "        s= (a+b+c)*0.5 # Half-perimeter (s) of Triangle \n",
    "        \n",
    "        # Area of Triangle         \n",
    "        Area = (s*(s-a)*(s-b)*(s-c))**0.5    \n",
    "        print(\"The sides of triangle are a=\"+str(a)+\", b=\"+str(b)+\", c=\"+str(c))     \n",
    "        Area = ('The Area of the triangle is %0.2f' %Area )\n",
    "        \n",
    "        print(Area) #return Area"
   ]
  },
  {
   "cell_type": "code",
   "execution_count": 20,
   "metadata": {},
   "outputs": [],
   "source": [
    "Area_Of_Traingle = Traingle_Area()"
   ]
  },
  {
   "cell_type": "code",
   "execution_count": 25,
   "metadata": {},
   "outputs": [
    {
     "name": "stdout",
     "output_type": "stream",
     "text": [
      "Enter the Side a :23\n",
      "Enter the Side b :12\n",
      "Enter the Side c :23\n"
     ]
    }
   ],
   "source": [
    "Area_Of_Traingle.sides_Of_Triangle()"
   ]
  },
  {
   "cell_type": "code",
   "execution_count": 26,
   "metadata": {},
   "outputs": [
    {
     "name": "stdout",
     "output_type": "stream",
     "text": [
      "The sides of triangle are a=23.0, b=12.0, c=23.0\n",
      "The Area of the triangle is 133.22\n"
     ]
    }
   ],
   "source": [
    "Area_Of_Traingle.area_Of_Triangle()"
   ]
  },
  {
   "cell_type": "markdown",
   "metadata": {},
   "source": [
    "* 1.2 Write a function filter_long_words() that takes a list of words and an integer n and returns the list of words that are longer than n. "
   ]
  },
  {
   "cell_type": "code",
   "execution_count": 12,
   "metadata": {},
   "outputs": [
    {
     "name": "stdout",
     "output_type": "stream",
     "text": [
      "Please input the list of words: apple mango banana \n",
      "Please input an integer: 3\n",
      "['apple', 'mango', 'banana']\n",
      "None\n"
     ]
    }
   ],
   "source": [
    "def filter_long_words(text,number):\n",
    "    listwords = []\n",
    "    for i in range(len(text)):\n",
    "        if len(text[i]) > number:\n",
    "            listwords.append(text[i])\n",
    "    print(listwords)\n",
    "def main():\n",
    "    text = input(\"Please input the list of words: \").split()\n",
    "    number = int(input(\"Please input an integer: \"))\n",
    "    filtered_words = filter_long_words(text,number)\n",
    "    print(filtered_words)\n",
    "main()"
   ]
  },
  {
   "cell_type": "markdown",
   "metadata": {},
   "source": [
    "# Question 2"
   ]
  },
  {
   "cell_type": "markdown",
   "metadata": {},
   "source": [
    "* 2.1 Write a Python program using function concept that maps list of words into a list of integers representing the lengths of the corresponding words. \n",
    " \n",
    "**Hint:** If a list [ ab,cde,erty] is passed on to the python function output should come as [2,3,4] \n",
    " \n",
    "Here 2,3 and 4 are the lengths of the words in the list. "
   ]
  },
  {
   "cell_type": "code",
   "execution_count": 27,
   "metadata": {},
   "outputs": [
    {
     "name": "stdout",
     "output_type": "stream",
     "text": [
      "Input : Please enter Words : ab,cde,erty\n",
      "Output: Length of Words are : [2, 3, 4]\n"
     ]
    }
   ],
   "source": [
    "def map_Words_to_Length(List):\n",
    "    return list(map(len, List))\n",
    "\n",
    "word_List=list(input(\"Input : Please enter Words : \").split(\",\"))\n",
    "List=[x.strip() for x in word_List]\n",
    "#function Execution\n",
    "Words_lengths=map_Words_to_Length(List)\n",
    "\n",
    "print(\"Output: Length of Words are :\",Words_lengths )"
   ]
  },
  {
   "cell_type": "markdown",
   "metadata": {},
   "source": [
    "* 2.2 Write a Python function which takes a character (i.e. a string of length 1) and returns True if it is a vowel, False otherwise. "
   ]
  },
  {
   "cell_type": "code",
   "execution_count": 3,
   "metadata": {},
   "outputs": [],
   "source": [
    "def vowel(char):\n",
    "    vowels = 'aeiou'\n",
    "    if char in vowels:\n",
    "        print(char , \"True\")\n",
    "    else:\n",
    "        print(char, \"False\")"
   ]
  },
  {
   "cell_type": "code",
   "execution_count": 5,
   "metadata": {},
   "outputs": [
    {
     "name": "stdout",
     "output_type": "stream",
     "text": [
      "a True\n",
      "c False\n"
     ]
    }
   ],
   "source": [
    "a= vowel(\"a\")\n",
    "b= vowel(\"c\")"
   ]
  }
 ],
 "metadata": {
  "kernelspec": {
   "display_name": "Python 3",
   "language": "python",
   "name": "python3"
  },
  "language_info": {
   "codemirror_mode": {
    "name": "ipython",
    "version": 3
   },
   "file_extension": ".py",
   "mimetype": "text/x-python",
   "name": "python",
   "nbconvert_exporter": "python",
   "pygments_lexer": "ipython3",
   "version": "3.7.3"
  }
 },
 "nbformat": 4,
 "nbformat_minor": 4
}
